{
 "cells": [
  {
   "cell_type": "code",
   "execution_count": 1,
   "id": "916bdd5a-3c85-4ed7-b6fb-8d0872d0e0c5",
   "metadata": {},
   "outputs": [],
   "source": [
    "import pandas as pd"
   ]
  },
  {
   "cell_type": "code",
   "execution_count": 2,
   "id": "46a7c4e6-b4aa-4ff9-820b-cd384189f081",
   "metadata": {},
   "outputs": [],
   "source": [
    "data = pd.read_csv('datos_homeloan.csv')"
   ]
  },
  {
   "cell_type": "code",
   "execution_count": 6,
   "id": "388e4c29-ac9a-44ee-aa8b-5c8e7d34cbe7",
   "metadata": {},
   "outputs": [
    {
     "ename": "SyntaxError",
     "evalue": "invalid syntax (372588502.py, line 1)",
     "output_type": "error",
     "traceback": [
      "\u001b[1;36m  Cell \u001b[1;32mIn[6], line 1\u001b[1;36m\u001b[0m\n\u001b[1;33m    corr_matrix = data.corr(numeric_only = *[True/False]*)\u001b[0m\n\u001b[1;37m                                           ^\u001b[0m\n\u001b[1;31mSyntaxError\u001b[0m\u001b[1;31m:\u001b[0m invalid syntax\n"
     ]
    }
   ],
   "source": [
    "corr_matrix = pd.corr(numeric_only = *[True/False]*)"
   ]
  },
  {
   "cell_type": "code",
   "execution_count": 5,
   "id": "5d0534c7-9424-4530-b711-067d67ab1131",
   "metadata": {},
   "outputs": [
    {
     "name": "stdout",
     "output_type": "stream",
     "text": [
      "                 ApplicantIncome  LoanAmount  LoanAmountTerm\n",
      "ApplicantIncome         1.000000    0.570909       -0.045306\n",
      "LoanAmount              0.570909    1.000000        0.039447\n",
      "LoanAmountTerm         -0.045306    0.039447        1.000000\n"
     ]
    }
   ],
   "source": [
    "print(corr_matrix)"
   ]
  },
  {
   "cell_type": "code",
   "execution_count": null,
   "id": "789be91a-a7e8-4601-9f44-b6b4adbebd64",
   "metadata": {},
   "outputs": [],
   "source": []
  }
 ],
 "metadata": {
  "kernelspec": {
   "display_name": "Python 3 (ipykernel)",
   "language": "python",
   "name": "python3"
  },
  "language_info": {
   "codemirror_mode": {
    "name": "ipython",
    "version": 3
   },
   "file_extension": ".py",
   "mimetype": "text/x-python",
   "name": "python",
   "nbconvert_exporter": "python",
   "pygments_lexer": "ipython3",
   "version": "3.9.7"
  }
 },
 "nbformat": 4,
 "nbformat_minor": 5
}
