{
 "cells": [
  {
   "cell_type": "code",
   "execution_count": 2,
   "id": "b79d6112-2e05-4d4f-b852-e5206abf3cfb",
   "metadata": {},
   "outputs": [],
   "source": [
    "import pandas as pd"
   ]
  },
  {
   "cell_type": "code",
   "execution_count": 3,
   "id": "21f2a6dd-9102-4872-98c6-0d43fec97527",
   "metadata": {},
   "outputs": [],
   "source": [
    "df = pd.read_csv('../datos_homeloan.csv')"
   ]
  },
  {
   "cell_type": "markdown",
   "id": "f80b1361-a362-4b0e-a55d-999abb5ec977",
   "metadata": {
    "tags": []
   },
   "source": [
    "# Normalización Min Max"
   ]
  },
  {
   "cell_type": "code",
   "execution_count": 4,
   "id": "2d17c27c-5853-4742-941b-aaf94687161e",
   "metadata": {},
   "outputs": [],
   "source": [
    "df['ApplicantIncome_norm'] = (df['ApplicantIncome'] - df['ApplicantIncome'].min()) / (df['ApplicantIncome'].max() - df['ApplicantIncome'].min())\n",
    "df['LoanAmount_norm'] = (df['LoanAmount'] - df['LoanAmount'].min()) / (df['LoanAmount'].max() - df['LoanAmount'].min())\n",
    "df['LoanAmountTerm_norm'] = (df['LoanAmountTerm'] - df['LoanAmountTerm'].min()) / (df['LoanAmountTerm'].max() - df['LoanAmountTerm'].min())"
   ]
  },
  {
   "cell_type": "code",
   "execution_count": 5,
   "id": "79b43713-1d6d-4c75-803d-3711d938a2c2",
   "metadata": {},
   "outputs": [
    {
     "name": "stdout",
     "output_type": "stream",
     "text": [
      "      Loan_ID  Gender Married Dependents     Education SelfEmployed  \\\n",
      "0    LP001002    Male      No          0      Graduate           No   \n",
      "1    LP001003    Male     Yes          1      Graduate           No   \n",
      "2    LP001005    Male     Yes          0      Graduate          Yes   \n",
      "3    LP001006    Male     Yes          0  Not Graduate           No   \n",
      "4    LP001008    Male      No          0      Graduate           No   \n",
      "..        ...     ...     ...        ...           ...          ...   \n",
      "609  LP002978  Female      No          0      Graduate           No   \n",
      "610  LP002979    Male     Yes         3+      Graduate           No   \n",
      "611  LP002983    Male     Yes          1      Graduate           No   \n",
      "612  LP002984    Male     Yes          2      Graduate           No   \n",
      "613  LP002990  Female      No          0      Graduate          Yes   \n",
      "\n",
      "     ApplicantIncome CoapplicantIncome  LoanAmount  LoanAmountTerm  \\\n",
      "0               5849                 0         NaN           360.0   \n",
      "1               4583              1508       128.0           360.0   \n",
      "2               3000                 0        66.0           360.0   \n",
      "3               2583              2358       120.0           360.0   \n",
      "4               6000                 0       141.0           360.0   \n",
      "..               ...               ...         ...             ...   \n",
      "609             2900                 0        71.0           360.0   \n",
      "610             4106                 0        40.0           180.0   \n",
      "611             8072               240       253.0           360.0   \n",
      "612             7583                 0       187.0           360.0   \n",
      "613             4583                 0       133.0           360.0   \n",
      "\n",
      "    PropertyArea LoanStatus  ApplicantIncome_norm  LoanAmount_norm  \\\n",
      "0          Urban          Y              0.070489              NaN   \n",
      "1          Rural          N              0.054830         0.172214   \n",
      "2          Urban          Y              0.035250         0.082489   \n",
      "3          Urban          Y              0.030093         0.160637   \n",
      "4          Urban          Y              0.072356         0.191027   \n",
      "..           ...        ...                   ...              ...   \n",
      "609        Rural          Y              0.034014         0.089725   \n",
      "610        Rural          Y              0.048930         0.044863   \n",
      "611        Urban          Y              0.097984         0.353111   \n",
      "612        Urban          Y              0.091936         0.257598   \n",
      "613    Semiurban          N              0.054830         0.179450   \n",
      "\n",
      "     LoanAmountTerm_norm  \n",
      "0               0.743590  \n",
      "1               0.743590  \n",
      "2               0.743590  \n",
      "3               0.743590  \n",
      "4               0.743590  \n",
      "..                   ...  \n",
      "609             0.743590  \n",
      "610             0.358974  \n",
      "611             0.743590  \n",
      "612             0.743590  \n",
      "613             0.743590  \n",
      "\n",
      "[614 rows x 15 columns]\n"
     ]
    }
   ],
   "source": [
    "print(df)"
   ]
  },
  {
   "cell_type": "markdown",
   "id": "410d7e06-bd33-4686-af2b-d10f0d4d34d4",
   "metadata": {},
   "source": [
    "# Normalización Z (estandarización)"
   ]
  },
  {
   "cell_type": "code",
   "execution_count": 6,
   "id": "f5d8a6d1-2fee-493d-a602-85c29f86cf8c",
   "metadata": {},
   "outputs": [],
   "source": [
    "df['ApplicantIncome_norm'] = (df['ApplicantIncome'] - df['ApplicantIncome'].mean()) / df['ApplicantIncome'].std()\n",
    "df['LoanAmount_norm'] = (df['LoanAmount'] - df['LoanAmount'].mean()) / df['LoanAmount'].std()\n",
    "df['LoanAmountTerm_norm'] = (df['LoanAmountTerm'] - df['LoanAmountTerm'].mean()) / df['LoanAmountTerm'].std()"
   ]
  },
  {
   "cell_type": "code",
   "execution_count": 9,
   "id": "70b7e953-fae8-4ccd-a27e-df173159c891",
   "metadata": {},
   "outputs": [
    {
     "name": "stdout",
     "output_type": "stream",
     "text": [
      "0      0.276411\n",
      "1      0.276411\n",
      "2      0.276411\n",
      "3      0.276411\n",
      "4      0.276411\n",
      "         ...   \n",
      "609    0.276411\n",
      "610   -2.487699\n",
      "611    0.276411\n",
      "612    0.276411\n",
      "613    0.276411\n",
      "Name: LoanAmountTerm_norm, Length: 614, dtype: float64 0           NaN\n",
      "1     -0.215127\n",
      "2     -0.939534\n",
      "3     -0.308599\n",
      "4     -0.063236\n",
      "         ...   \n",
      "609   -0.881114\n",
      "610   -1.243317\n",
      "611    1.245369\n",
      "612    0.474227\n",
      "613   -0.156707\n",
      "Name: LoanAmount_norm, Length: 614, dtype: float64 0      0.072931\n",
      "1     -0.134302\n",
      "2     -0.393427\n",
      "3     -0.461686\n",
      "4      0.097649\n",
      "         ...   \n",
      "609   -0.409796\n",
      "610   -0.212383\n",
      "611    0.436818\n",
      "612    0.356773\n",
      "613   -0.134302\n",
      "Name: ApplicantIncome_norm, Length: 614, dtype: float64\n"
     ]
    }
   ],
   "source": [
    "print(df['LoanAmountTerm_norm'], df['LoanAmount_norm'], df['ApplicantIncome_norm'])"
   ]
  },
  {
   "cell_type": "code",
   "execution_count": null,
   "id": "8d018906-313d-456e-9807-ba94caf4c322",
   "metadata": {},
   "outputs": [],
   "source": []
  }
 ],
 "metadata": {
  "kernelspec": {
   "display_name": "Python 3 (ipykernel)",
   "language": "python",
   "name": "python3"
  },
  "language_info": {
   "codemirror_mode": {
    "name": "ipython",
    "version": 3
   },
   "file_extension": ".py",
   "mimetype": "text/x-python",
   "name": "python",
   "nbconvert_exporter": "python",
   "pygments_lexer": "ipython3",
   "version": "3.9.7"
  }
 },
 "nbformat": 4,
 "nbformat_minor": 5
}
